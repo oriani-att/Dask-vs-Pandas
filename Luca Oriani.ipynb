{
 "cells": [
  {
   "cell_type": "markdown",
   "id": "b8b64565-2cf5-4bb0-b26e-82104193e741",
   "metadata": {},
   "source": [
    "### Step 1"
   ]
  },
  {
   "cell_type": "markdown",
   "id": "c60cb2c8-d86c-4fc6-a853-a39cbcddfc25",
   "metadata": {},
   "source": [
    "It is necessary to import some libraries. Pandas, Time and NumPy are imported to make data manipulation and analysis.\n",
    "Dask and Dask DataFrame are the libraries that are used for parallelization."
   ]
  },
  {
   "cell_type": "code",
   "execution_count": 3,
   "id": "e607f0f1-16d6-4c1a-b974-e04cddf7c70f",
   "metadata": {},
   "outputs": [],
   "source": [
    "# Import necessary libraries\n",
    "import pandas as pd\n",
    "import dask.dataframe as dd\n",
    "import numpy as np\n",
    "import time"
   ]
  },
  {
   "cell_type": "markdown",
   "id": "292f50c7-3fca-49cd-ad9b-c661fee3023c",
   "metadata": {},
   "source": [
    "A dataset with 50 products with an ID and a price for a given supermarket is created. In addition to this, a Pandas DataFrame that holds the product IDs and corresponding prices for the first supermarket is created."
   ]
  },
  {
   "cell_type": "code",
   "execution_count": 6,
   "id": "7644a438-f114-405d-9d94-d347ec8ba32f",
   "metadata": {},
   "outputs": [],
   "source": [
    "# Create a dataset with 50 products, ID, and price for a supermarket\n",
    "product_ids = range(1, 51)  # Generate product IDs from 1 to 50\n",
    "prices_supermarket_1 = np.random.uniform(5, 50, size=50)  # Random prices between 5 and 50\n",
    "\n",
    "# Create a Pandas DataFrame for the first supermarket\n",
    "df_supermarket_1 = pd.DataFrame({\n",
    "    'Product_ID': product_ids,\n",
    "    'Price_Supermarket_1': prices_supermarket_1\n",
    "})"
   ]
  },
  {
   "cell_type": "markdown",
   "id": "69108b20-c207-45c8-a642-005136871937",
   "metadata": {},
   "source": [
    "The created dataset needs to be duplicated, but with the prices of an other supermarket. \n",
    "So, at first it is necessary to generate random prices for the second supermarket, then a DataFrame for the second supermarket is created and printed."
   ]
  },
  {
   "cell_type": "code",
   "execution_count": 9,
   "id": "02d42efa-66f6-4993-8a6b-64d23277b6a2",
   "metadata": {},
   "outputs": [
    {
     "name": "stdout",
     "output_type": "stream",
     "text": [
      "Supermarket 1 DataFrame:\n",
      "   Product_ID  Price_Supermarket_1\n",
      "0           1            44.675712\n",
      "1           2            23.229248\n",
      "2           3            38.929733\n",
      "3           4            12.746937\n",
      "4           5            48.934188\n",
      "Supermarket 2 DataFrame:\n",
      "   Product_ID  Price_Supermarket_2\n",
      "0           1            23.607827\n",
      "1           2            14.545812\n",
      "2           3            39.167270\n",
      "3           4            27.964787\n",
      "4           5            38.762105\n"
     ]
    }
   ],
   "source": [
    "# Duplicate this dataset but with the prices of another supermarket\n",
    "\n",
    "# Generate random prices for the second supermarket\n",
    "prices_supermarket_2 = np.random.uniform(5, 50, size=50)  # Generate random prices for the second supermarket\n",
    "\n",
    "# Create a DataFrame for the second supermarket using the same product IDs\n",
    "df_supermarket_2 = pd.DataFrame({\n",
    "    'Product_ID': product_ids,\n",
    "    'Price_Supermarket_2': prices_supermarket_2\n",
    "})\n",
    "\n",
    "# Step 4: Check the DataFrames to ensure data integrity\n",
    "print(\"Supermarket 1 DataFrame:\")\n",
    "print(df_supermarket_1.head())\n",
    "print(\"Supermarket 2 DataFrame:\")\n",
    "print(df_supermarket_2.head())"
   ]
  },
  {
   "cell_type": "markdown",
   "id": "3ccb168a-1ae0-4cc6-b017-9608a1da990d",
   "metadata": {},
   "source": [
    "The process is repeated 20 times to simulate a large amount of data (this is necessary to examinate the potential of Dask). The pd.concat fucntion is used to concat the datasets and show all the prices for every single product."
   ]
  },
  {
   "cell_type": "code",
   "execution_count": 12,
   "id": "6d4c29ec-8479-45ed-8eb3-cbb674a90dd7",
   "metadata": {},
   "outputs": [
    {
     "name": "stdout",
     "output_type": "stream",
     "text": [
      "    Product_ID  Price_Supermarket_1  Product_ID  Price_Supermarket_2\n",
      "0            1            44.675712           1            23.607827\n",
      "1            2            23.229248           2            14.545812\n",
      "2            3            38.929733           3            39.167270\n",
      "3            4            12.746937           4            27.964787\n",
      "4            5            48.934188           5            38.762105\n",
      "5            6             6.554106           6            35.273193\n",
      "6            7            41.822678           7            23.145681\n",
      "7            8             6.147689           8             7.665526\n",
      "8            9            24.199413           9            29.750173\n",
      "9           10            30.008754          10            18.845531\n",
      "10          11            30.925634          11            47.268262\n",
      "11          12            31.722404          12            29.624703\n",
      "12          13            38.539813          13            44.064718\n",
      "13          14            23.055650          14            19.178435\n",
      "14          15            49.239899          15             7.173340\n",
      "15          16            26.710737          16            11.437514\n",
      "16          17            43.759137          17             6.368704\n",
      "17          18            31.829085          18            10.609664\n",
      "18          19            24.527377          19            31.126845\n",
      "19          20            37.099769          20            27.627694\n",
      "20          21            40.097106          21            29.494687\n",
      "21          22            16.359103          22            37.727928\n",
      "22          23            45.118448          23            11.689909\n",
      "23          24            48.218410          24            46.829277\n",
      "24          25             9.086092          25            45.396106\n",
      "25          26            22.037883          26            33.151778\n",
      "26          27            14.030766          27            31.599221\n",
      "27          28            42.073935          28            12.925108\n",
      "28          29            42.709665          29            32.691143\n",
      "29          30            43.389373          30            32.602769\n",
      "30          31            43.536331          31             7.387827\n",
      "31          32            49.819244          32            24.083956\n",
      "32          33            27.457577          33            18.826487\n",
      "33          34             5.060330          34            38.988963\n",
      "34          35            36.927162          35            24.111316\n",
      "35          36            20.609902          36            23.595106\n",
      "36          37            39.117360          37             5.442483\n",
      "37          38            14.036124          38            40.278063\n",
      "38          39            39.106586          39            45.351668\n",
      "39          40             9.633616          40             6.356267\n",
      "40          41            33.202676          41            12.463108\n",
      "41          42            29.198793          42            17.370262\n",
      "42          43             9.229741          43            18.143613\n",
      "43          44            10.777173          44            24.881768\n",
      "44          45            14.274231          45            43.841671\n",
      "45          46            16.366555          46            47.056213\n",
      "46          47            28.524550          47            35.261479\n",
      "47          48            34.186391          48            16.254153\n",
      "48          49            18.151955          49            29.582987\n",
      "49          50            47.636922          50            25.815730\n"
     ]
    }
   ],
   "source": [
    "# Repeat this process 20 times to simulate larger data\n",
    "df_supermarket_1_repeated = df_supermarket_1.sample(n=len(df_supermarket_1) * 20, replace=True).reset_index(drop=True)\n",
    "df_supermarket_2_repeated = df_supermarket_2.sample(n=len(df_supermarket_2) * 20, replace=True).reset_index(drop=True)\n",
    "\n",
    "# Concat the two datasets and print the output to show all the prices for a particular product\n",
    "df_combined = pd.concat([df_supermarket_1, df_supermarket_2], axis=1)\n",
    "print(df_combined)"
   ]
  },
  {
   "cell_type": "markdown",
   "id": "35d113b0-bf31-4191-95d8-ca122737c73b",
   "metadata": {},
   "source": [
    "The average price for each product and each supermarket is computed and displayed. In addition to this, also the global average price of all products is calculated and displayed."
   ]
  },
  {
   "cell_type": "code",
   "execution_count": 18,
   "id": "44c0c1a8-7784-45d7-a756-ceeee3cb7fd2",
   "metadata": {},
   "outputs": [
    {
     "name": "stdout",
     "output_type": "stream",
     "text": [
      "Average Prices for Each Product:\n",
      "    Product_ID  Product_ID  Price_Supermarket_1  Price_Supermarket_2  \\\n",
      "0            1           1            44.675712            23.607827   \n",
      "1            2           2            23.229248            14.545812   \n",
      "2            3           3            38.929733            39.167270   \n",
      "3            4           4            12.746937            27.964787   \n",
      "4            5           5            48.934188            38.762105   \n",
      "5            6           6             6.554106            35.273193   \n",
      "6            7           7            41.822678            23.145681   \n",
      "7            8           8             6.147689             7.665526   \n",
      "8            9           9            24.199413            29.750173   \n",
      "9           10          10            30.008754            18.845531   \n",
      "10          11          11            30.925634            47.268262   \n",
      "11          12          12            31.722404            29.624703   \n",
      "12          13          13            38.539813            44.064718   \n",
      "13          14          14            23.055650            19.178435   \n",
      "14          15          15            49.239899             7.173340   \n",
      "15          16          16            26.710737            11.437514   \n",
      "16          17          17            43.759137             6.368704   \n",
      "17          18          18            31.829085            10.609664   \n",
      "18          19          19            24.527377            31.126845   \n",
      "19          20          20            37.099769            27.627694   \n",
      "20          21          21            40.097106            29.494687   \n",
      "21          22          22            16.359103            37.727928   \n",
      "22          23          23            45.118448            11.689909   \n",
      "23          24          24            48.218410            46.829277   \n",
      "24          25          25             9.086092            45.396106   \n",
      "25          26          26            22.037883            33.151778   \n",
      "26          27          27            14.030766            31.599221   \n",
      "27          28          28            42.073935            12.925108   \n",
      "28          29          29            42.709665            32.691143   \n",
      "29          30          30            43.389373            32.602769   \n",
      "30          31          31            43.536331             7.387827   \n",
      "31          32          32            49.819244            24.083956   \n",
      "32          33          33            27.457577            18.826487   \n",
      "33          34          34             5.060330            38.988963   \n",
      "34          35          35            36.927162            24.111316   \n",
      "35          36          36            20.609902            23.595106   \n",
      "36          37          37            39.117360             5.442483   \n",
      "37          38          38            14.036124            40.278063   \n",
      "38          39          39            39.106586            45.351668   \n",
      "39          40          40             9.633616             6.356267   \n",
      "40          41          41            33.202676            12.463108   \n",
      "41          42          42            29.198793            17.370262   \n",
      "42          43          43             9.229741            18.143613   \n",
      "43          44          44            10.777173            24.881768   \n",
      "44          45          45            14.274231            43.841671   \n",
      "45          46          46            16.366555            47.056213   \n",
      "46          47          47            28.524550            35.261479   \n",
      "47          48          48            34.186391            16.254153   \n",
      "48          49          49            18.151955            29.582987   \n",
      "49          50          50            47.636922            25.815730   \n",
      "\n",
      "    Average_Price  \n",
      "0       34.141769  \n",
      "1       18.887530  \n",
      "2       39.048502  \n",
      "3       20.355862  \n",
      "4       43.848146  \n",
      "5       20.913650  \n",
      "6       32.484180  \n",
      "7        6.906607  \n",
      "8       26.974793  \n",
      "9       24.427143  \n",
      "10      39.096948  \n",
      "11      30.673553  \n",
      "12      41.302265  \n",
      "13      21.117043  \n",
      "14      28.206620  \n",
      "15      19.074125  \n",
      "16      25.063921  \n",
      "17      21.219375  \n",
      "18      27.827111  \n",
      "19      32.363731  \n",
      "20      34.795897  \n",
      "21      27.043516  \n",
      "22      28.404178  \n",
      "23      47.523843  \n",
      "24      27.241099  \n",
      "25      27.594830  \n",
      "26      22.814993  \n",
      "27      27.499522  \n",
      "28      37.700404  \n",
      "29      37.996071  \n",
      "30      25.462079  \n",
      "31      36.951600  \n",
      "32      23.142032  \n",
      "33      22.024647  \n",
      "34      30.519239  \n",
      "35      22.102504  \n",
      "36      22.279922  \n",
      "37      27.157093  \n",
      "38      42.229127  \n",
      "39       7.994942  \n",
      "40      22.832892  \n",
      "41      23.284528  \n",
      "42      13.686677  \n",
      "43      17.829471  \n",
      "44      29.057951  \n",
      "45      31.711384  \n",
      "46      31.893015  \n",
      "47      25.220272  \n",
      "48      23.867471  \n",
      "49      36.726326  \n",
      "\n",
      "Global Average Price: 27.77\n"
     ]
    }
   ],
   "source": [
    "# Calculate average prices for each product and each supermarket in Pandas style\n",
    "df_combined['Average_Price'] = df_combined[['Price_Supermarket_1', 'Price_Supermarket_2']].mean(axis=1)\n",
    "\n",
    "# Calculate global average price in Pandas style\n",
    "global_average_price = df_combined[['Price_Supermarket_1', 'Price_Supermarket_2']].mean().mean()\n",
    "\n",
    "# Display average prices\n",
    "print(\"Average Prices for Each Product:\")\n",
    "print(df_combined[['Product_ID', 'Price_Supermarket_1', 'Price_Supermarket_2', 'Average_Price']])\n",
    "print(f\"\\nGlobal Average Price: {global_average_price:.2f}\")"
   ]
  },
  {
   "cell_type": "markdown",
   "id": "fe639f80-06a6-4415-80b2-dbc11356eb85",
   "metadata": {},
   "source": [
    "Furthermore, all prices are increased by 1.5% (the new one is stored in a new column)."
   ]
  },
  {
   "cell_type": "code",
   "execution_count": 21,
   "id": "155fc8e7-af14-4e8d-9029-4f8d75cfe163",
   "metadata": {},
   "outputs": [
    {
     "name": "stdout",
     "output_type": "stream",
     "text": [
      "\n",
      "Updated Prices with 1.5% Increase:\n",
      "   Product_ID  Product_ID  Price_Supermarket_1  New_Price_Supermarket_1  \\\n",
      "0           1           1            44.675712                45.345848   \n",
      "1           2           2            23.229248                23.577686   \n",
      "2           3           3            38.929733                39.513679   \n",
      "3           4           4            12.746937                12.938141   \n",
      "4           5           5            48.934188                49.668200   \n",
      "\n",
      "   Price_Supermarket_2  New_Price_Supermarket_2  \n",
      "0            23.607827                23.961944  \n",
      "1            14.545812                14.764000  \n",
      "2            39.167270                39.754779  \n",
      "3            27.964787                28.384259  \n",
      "4            38.762105                39.343537  \n"
     ]
    }
   ],
   "source": [
    "# Increase all prices by 1.5%\n",
    "df_combined['New_Price_Supermarket_1'] = df_combined['Price_Supermarket_1'] * 1.015\n",
    "df_combined['New_Price_Supermarket_2'] = df_combined['Price_Supermarket_2'] * 1.015\n",
    "\n",
    "# Display updated DataFrame\n",
    "print(\"\\nUpdated Prices with 1.5% Increase:\")\n",
    "print(df_combined[['Product_ID', 'Price_Supermarket_1', 'New_Price_Supermarket_1', \n",
    "                   'Price_Supermarket_2', 'New_Price_Supermarket_2']].head())"
   ]
  },
  {
   "cell_type": "markdown",
   "id": "075f8365-cbeb-4729-8800-d81090e6f686",
   "metadata": {},
   "source": [
    "The same procedure is repeated using Dask."
   ]
  },
  {
   "cell_type": "code",
   "execution_count": 23,
   "id": "7f0e6f4f-7c63-4df0-b723-db1a116fe105",
   "metadata": {},
   "outputs": [
    {
     "name": "stdout",
     "output_type": "stream",
     "text": [
      "Dask Task Graph has been saved as 'task_graph.png'.\n",
      "\n",
      "Average Prices for Each Product (Dask):\n",
      "       Product_ID  Price_Supermarket_1  Price_Supermarket_2  Average_Price\n",
      "0              41            33.202676            12.463108      22.832892\n",
      "1              41            33.202676            12.463108      22.832892\n",
      "2              41            33.202676            12.463108      22.832892\n",
      "3              41            33.202676            12.463108      22.832892\n",
      "4              41            33.202676            12.463108      22.832892\n",
      "...           ...                  ...                  ...            ...\n",
      "19839          46            16.366555            47.056213      31.711384\n",
      "19840          46            16.366555            47.056213      31.711384\n",
      "19841          46            16.366555            47.056213      31.711384\n",
      "19842          46            16.366555            47.056213      31.711384\n",
      "19843          46            16.366555            47.056213      31.711384\n",
      "\n",
      "[19844 rows x 4 columns]\n",
      "\n",
      "Global Average Price (Dask): 27.93\n"
     ]
    }
   ],
   "source": [
    "# Create Dask DataFrames from the Pandas DataFrames\n",
    "ddf_supermarket_1 = dd.from_pandas(df_supermarket_1_repeated, npartitions=1)\n",
    "ddf_supermarket_2 = dd.from_pandas(df_supermarket_2_repeated, npartitions=1)\n",
    "\n",
    "# Combine the Dask DataFrames\n",
    "ddf_combined = dd.merge(ddf_supermarket_1, ddf_supermarket_2, on='Product_ID', how='inner')\n",
    "\n",
    "# Compute average prices\n",
    "ddf_combined['Average_Price'] = ddf_combined[['Price_Supermarket_1', 'Price_Supermarket_2']].mean(axis=1)\n",
    "\n",
    "# Calculate global average price\n",
    "global_average_price_dask = ddf_combined[['Price_Supermarket_1', 'Price_Supermarket_2']].mean().mean().compute()\n",
    "\n",
    "# Trigger computation and visualize the task graph\n",
    "ddf_combined.visualize(filename='task_graph.png')  # Save the graph to a file\n",
    "print(\"Dask Task Graph has been saved as 'task_graph.png'.\")\n",
    "\n",
    "# Display average prices for Dask\n",
    "print(\"\\nAverage Prices for Each Product (Dask):\")\n",
    "average_prices_dask = ddf_combined[['Product_ID', 'Price_Supermarket_1', 'Price_Supermarket_2', 'Average_Price']].compute()\n",
    "print(average_prices_dask)\n",
    "\n",
    "print(f\"\\nGlobal Average Price (Dask): {global_average_price_dask:.2f}\")"
   ]
  },
  {
   "cell_type": "code",
   "execution_count": 25,
   "id": "a96fc8fa-7894-4680-b5f3-9726e6bf5988",
   "metadata": {},
   "outputs": [
    {
     "name": "stdout",
     "output_type": "stream",
     "text": [
      "\n",
      "Updated Prices with 1.5% Increase (Dask):\n",
      "   Product_ID  Price_Supermarket_1  New_Price_Supermarket_1  \\\n",
      "0          41            33.202676                33.700716   \n",
      "1          41            33.202676                33.700716   \n",
      "2          41            33.202676                33.700716   \n",
      "3          41            33.202676                33.700716   \n",
      "4          41            33.202676                33.700716   \n",
      "\n",
      "   Price_Supermarket_2  New_Price_Supermarket_2  \n",
      "0            12.463108                12.650054  \n",
      "1            12.463108                12.650054  \n",
      "2            12.463108                12.650054  \n",
      "3            12.463108                12.650054  \n",
      "4            12.463108                12.650054  \n"
     ]
    }
   ],
   "source": [
    "# Increase prices by 1.5% in Dask\n",
    "ddf_combined['New_Price_Supermarket_1'] = ddf_combined['Price_Supermarket_1'] * 1.015\n",
    "ddf_combined['New_Price_Supermarket_2'] = ddf_combined['Price_Supermarket_2'] * 1.015\n",
    "\n",
    "# Display updated DataFrame (with Dask)\n",
    "updated_prices_dask = ddf_combined[['Product_ID', 'Price_Supermarket_1', 'New_Price_Supermarket_1', \n",
    "                                      'Price_Supermarket_2', 'New_Price_Supermarket_2']].compute()\n",
    "print(\"\\nUpdated Prices with 1.5% Increase (Dask):\")\n",
    "print(updated_prices_dask.head())"
   ]
  },
  {
   "cell_type": "markdown",
   "id": "8a9f7770-3a8f-410e-a554-9f60c1167ebb",
   "metadata": {},
   "source": [
    "### Step 2"
   ]
  },
  {
   "cell_type": "markdown",
   "id": "97a0b26e-5e44-4cce-a356-df973ef350a5",
   "metadata": {},
   "source": [
    "The goal of this step is to determine the minimum number of records at which computing the global average price becomes faster using Dask compared to Pandas on the current laptop, configured with a local cluster of 4 workers."
   ]
  },
  {
   "cell_type": "markdown",
   "id": "165a066b-6951-4bd8-9e16-fcc035e631c7",
   "metadata": {},
   "source": [
    "It is necessary to import the Client library and to inizialise the Dask client, a component of the Dask library that is used for parallel and distributed computing in Python. Essentialy, it allows to sumbit tasks for execution across multiple workers."
   ]
  },
  {
   "cell_type": "code",
   "execution_count": 29,
   "id": "51dff960-dd7a-46a2-89d5-ee615b0f2e9f",
   "metadata": {},
   "outputs": [],
   "source": [
    "#Import the necessary library\n",
    "from dask.distributed import Client"
   ]
  },
  {
   "cell_type": "code",
   "execution_count": 31,
   "id": "7d9a945b-71d5-462c-a27a-5fdc1945b90c",
   "metadata": {},
   "outputs": [
    {
     "name": "stdout",
     "output_type": "stream",
     "text": [
      "<Client: 'tcp://127.0.0.1:45381' processes=4 threads=12, memory=7.45 GiB>\n",
      "\n",
      "Worker Information:\n",
      "Worker ID: tcp://127.0.0.1:36375, Info: {'type': 'Worker', 'id': 3, 'host': '127.0.0.1', 'resources': {}, 'local_directory': '/tmp/dask-scratch-space/worker-4dxffrnp', 'name': 3, 'nthreads': 3, 'memory_limit': 2000000000, 'last_seen': 1729274985.900146, 'services': {'dashboard': 46487}, 'metrics': {'task_counts': {}, 'bandwidth': {'total': 100000000, 'workers': {}, 'types': {}}, 'digests_total_since_heartbeat': {}, 'managed_bytes': 0, 'spilled_bytes': {'memory': 0, 'disk': 0}, 'transfer': {'incoming_bytes': 0, 'incoming_count': 0, 'incoming_count_total': 0, 'outgoing_bytes': 0, 'outgoing_count': 0, 'outgoing_count_total': 0}, 'event_loop_interval': 0.02, 'cpu': 0.0, 'memory': 90787840, 'time': 1729274985.576139, 'host_net_io': {'read_bps': 0.0, 'write_bps': 0.0}, 'host_disk_io': {'read_bps': 0.0, 'write_bps': 0.0}, 'num_fds': 18}, 'status': 'running', 'nanny': 'tcp://127.0.0.1:43333'}\n",
      "Worker ID: tcp://127.0.0.1:37495, Info: {'type': 'Worker', 'id': 0, 'host': '127.0.0.1', 'resources': {}, 'local_directory': '/tmp/dask-scratch-space/worker-aqq47jwv', 'name': 0, 'nthreads': 3, 'memory_limit': 2000000000, 'last_seen': 1729274985.8927042, 'services': {'dashboard': 38349}, 'metrics': {'task_counts': {}, 'bandwidth': {'total': 100000000, 'workers': {}, 'types': {}}, 'digests_total_since_heartbeat': {}, 'managed_bytes': 0, 'spilled_bytes': {'memory': 0, 'disk': 0}, 'transfer': {'incoming_bytes': 0, 'incoming_count': 0, 'incoming_count_total': 0, 'outgoing_bytes': 0, 'outgoing_count': 0, 'outgoing_count_total': 0}, 'event_loop_interval': 0.02, 'cpu': 0.0, 'memory': 90779648, 'time': 1729274985.5664575, 'host_net_io': {'read_bps': 0.0, 'write_bps': 0.0}, 'host_disk_io': {'read_bps': 0.0, 'write_bps': 0.0}, 'num_fds': 18}, 'status': 'running', 'nanny': 'tcp://127.0.0.1:46017'}\n",
      "Worker ID: tcp://127.0.0.1:42509, Info: {'type': 'Worker', 'id': 1, 'host': '127.0.0.1', 'resources': {}, 'local_directory': '/tmp/dask-scratch-space/worker-1qb89vab', 'name': 1, 'nthreads': 3, 'memory_limit': 2000000000, 'last_seen': 1729274985.9213333, 'services': {'dashboard': 41703}, 'metrics': {'task_counts': {}, 'bandwidth': {'total': 100000000, 'workers': {}, 'types': {}}, 'digests_total_since_heartbeat': {}, 'managed_bytes': 0, 'spilled_bytes': {'memory': 0, 'disk': 0}, 'transfer': {'incoming_bytes': 0, 'incoming_count': 0, 'incoming_count_total': 0, 'outgoing_bytes': 0, 'outgoing_count': 0, 'outgoing_count_total': 0}, 'event_loop_interval': 0.02, 'cpu': 0.0, 'memory': 90656768, 'time': 1729274985.5758772, 'host_net_io': {'read_bps': 0.0, 'write_bps': 0.0}, 'host_disk_io': {'read_bps': 0.0, 'write_bps': 0.0}, 'num_fds': 18}, 'status': 'running', 'nanny': 'tcp://127.0.0.1:39381'}\n",
      "Worker ID: tcp://127.0.0.1:44263, Info: {'type': 'Worker', 'id': 2, 'host': '127.0.0.1', 'resources': {}, 'local_directory': '/tmp/dask-scratch-space/worker-6fci1yu6', 'name': 2, 'nthreads': 3, 'memory_limit': 2000000000, 'last_seen': 1729274985.8974524, 'services': {'dashboard': 33385}, 'metrics': {'task_counts': {}, 'bandwidth': {'total': 100000000, 'workers': {}, 'types': {}}, 'digests_total_since_heartbeat': {}, 'managed_bytes': 0, 'spilled_bytes': {'memory': 0, 'disk': 0}, 'transfer': {'incoming_bytes': 0, 'incoming_count': 0, 'incoming_count_total': 0, 'outgoing_bytes': 0, 'outgoing_count': 0, 'outgoing_count_total': 0}, 'event_loop_interval': 0.02, 'cpu': 0.0, 'memory': 90787840, 'time': 1729274985.5733957, 'host_net_io': {'read_bps': 0.0, 'write_bps': 0.0}, 'host_disk_io': {'read_bps': 0.0, 'write_bps': 0.0}, 'num_fds': 18}, 'status': 'running', 'nanny': 'tcp://127.0.0.1:43279'}\n",
      "\n",
      "Number of Workers: 4\n",
      "\n",
      "Total Number of Cores: 4\n",
      "\n",
      "Number of Cores per Worker: [1, 1, 1, 1]\n"
     ]
    }
   ],
   "source": [
    "# Initialize the Dask client with 4 workers\n",
    "client = Client(n_workers=4, memory_limit='2GB')  # Start a local Dask cluster with 4 workers\n",
    "print(client)\n",
    "\n",
    "# Get the scheduler information\n",
    "scheduler_info = client.scheduler_info()\n",
    "workers = scheduler_info['workers']\n",
    "\n",
    "# Print the worker information to inspect its structure\n",
    "print(\"\\nWorker Information:\")\n",
    "for worker_id, info in workers.items():\n",
    "    print(f\"Worker ID: {worker_id}, Info: {info}\")\n",
    "\n",
    "# Get the number of workers\n",
    "n_workers = len(workers)\n",
    "print(f\"\\nNumber of Workers: {n_workers}\")\n",
    "\n",
    "# Get the number of cores for each worker\n",
    "n_cores = {worker_id: info.get('ncores', 1) for worker_id, info in workers.items()}  # Default to 1 if 'ncores' key does not exist\n",
    "total_cores = sum(n_cores.values())\n",
    "print(f\"\\nTotal Number of Cores: {total_cores}\")\n",
    "print(f\"\\nNumber of Cores per Worker: {list(n_cores.values())}\")"
   ]
  },
  {
   "cell_type": "markdown",
   "id": "0d0a5d0d-79e1-4517-93d2-755f11941a02",
   "metadata": {},
   "source": [
    "Two functions are created: a function to generate synthetic product data in batches, including product IDs and random prices for two supermarkets, and a function that calculates average prices using both Pandas and Dask. This latest function measures execution time for both libraries and allows for batch processing.\n",
    "Then, it is necessary to vary the total number of records to find the threshold where Dask outperforms Pandas. Starting from a lower count and increasing gradually, the time taken for each configuration is measured. Finally, the point at which Dask's execution time is less than Pandas' for the first time is identified."
   ]
  },
  {
   "cell_type": "code",
   "execution_count": 34,
   "id": "3d82a85c-9e74-4818-b9bf-1918ef505e04",
   "metadata": {},
   "outputs": [
    {
     "name": "stdout",
     "output_type": "stream",
     "text": [
      "Processing batch 1/21\n"
     ]
    },
    {
     "name": "stderr",
     "output_type": "stream",
     "text": [
      "2024-10-18 20:11:02,200 - distributed.shuffle._scheduler_plugin - WARNING - Shuffle efb2b6d5406b879318d74738e0ed9c20 initialized by task ('hash-join-transfer-efb2b6d5406b879318d74738e0ed9c20', 3) executed on worker tcp://127.0.0.1:36375\n",
      "2024-10-18 20:11:02,203 - distributed.shuffle._scheduler_plugin - WARNING - Shuffle 48def99ce2a3fdb867cd6ac73e846f23 initialized by task ('hash-join-transfer-48def99ce2a3fdb867cd6ac73e846f23', 1) executed on worker tcp://127.0.0.1:42509\n",
      "2024-10-18 20:11:03,415 - distributed.shuffle._scheduler_plugin - WARNING - Shuffle efb2b6d5406b879318d74738e0ed9c20 deactivated due to stimulus 'task-finished-1729275063.4131277'\n",
      "2024-10-18 20:11:03,416 - distributed.shuffle._scheduler_plugin - WARNING - Shuffle 48def99ce2a3fdb867cd6ac73e846f23 deactivated due to stimulus 'task-finished-1729275063.4131277'\n"
     ]
    },
    {
     "name": "stdout",
     "output_type": "stream",
     "text": [
      "Processing batch 2/21\n"
     ]
    },
    {
     "name": "stderr",
     "output_type": "stream",
     "text": [
      "2024-10-18 20:11:06,608 - distributed.shuffle._scheduler_plugin - WARNING - Shuffle a9738ec73dfbfb9eafb684165d88fd35 initialized by task ('hash-join-transfer-a9738ec73dfbfb9eafb684165d88fd35', 2) executed on worker tcp://127.0.0.1:36375\n",
      "2024-10-18 20:11:06,611 - distributed.shuffle._scheduler_plugin - WARNING - Shuffle 666cc5901e8d4aacd991599b7ea9bc1f initialized by task ('hash-join-transfer-666cc5901e8d4aacd991599b7ea9bc1f', 3) executed on worker tcp://127.0.0.1:36375\n",
      "2024-10-18 20:11:07,615 - distributed.shuffle._scheduler_plugin - WARNING - Shuffle a9738ec73dfbfb9eafb684165d88fd35 deactivated due to stimulus 'task-finished-1729275067.6136482'\n",
      "2024-10-18 20:11:07,616 - distributed.shuffle._scheduler_plugin - WARNING - Shuffle 666cc5901e8d4aacd991599b7ea9bc1f deactivated due to stimulus 'task-finished-1729275067.6136482'\n"
     ]
    },
    {
     "name": "stdout",
     "output_type": "stream",
     "text": [
      "Processing batch 3/21\n"
     ]
    },
    {
     "name": "stderr",
     "output_type": "stream",
     "text": [
      "2024-10-18 20:11:10,847 - distributed.shuffle._scheduler_plugin - WARNING - Shuffle 1ff6e57129446ab0b8cd6f55bcea0ae6 initialized by task ('hash-join-transfer-1ff6e57129446ab0b8cd6f55bcea0ae6', 0) executed on worker tcp://127.0.0.1:44263\n",
      "2024-10-18 20:11:10,850 - distributed.shuffle._scheduler_plugin - WARNING - Shuffle b502bd34d55b8b995e9a7eb530c48048 initialized by task ('hash-join-transfer-b502bd34d55b8b995e9a7eb530c48048', 2) executed on worker tcp://127.0.0.1:44263\n",
      "2024-10-18 20:11:11,886 - distributed.shuffle._scheduler_plugin - WARNING - Shuffle b502bd34d55b8b995e9a7eb530c48048 deactivated due to stimulus 'task-finished-1729275071.8846436'\n",
      "2024-10-18 20:11:11,887 - distributed.shuffle._scheduler_plugin - WARNING - Shuffle 1ff6e57129446ab0b8cd6f55bcea0ae6 deactivated due to stimulus 'task-finished-1729275071.8846436'\n"
     ]
    },
    {
     "name": "stdout",
     "output_type": "stream",
     "text": [
      "Processing batch 4/21\n"
     ]
    },
    {
     "name": "stderr",
     "output_type": "stream",
     "text": [
      "2024-10-18 20:11:15,100 - distributed.shuffle._scheduler_plugin - WARNING - Shuffle 0f3f49ad9e84da2cb9973e0e0cee3220 initialized by task ('hash-join-transfer-0f3f49ad9e84da2cb9973e0e0cee3220', 2) executed on worker tcp://127.0.0.1:37495\n",
      "2024-10-18 20:11:15,101 - distributed.shuffle._scheduler_plugin - WARNING - Shuffle 8915055583bdc6724c9d09b50bf5fd2d initialized by task ('hash-join-transfer-8915055583bdc6724c9d09b50bf5fd2d', 3) executed on worker tcp://127.0.0.1:37495\n",
      "2024-10-18 20:11:16,105 - distributed.shuffle._scheduler_plugin - WARNING - Shuffle 0f3f49ad9e84da2cb9973e0e0cee3220 deactivated due to stimulus 'task-finished-1729275076.1034837'\n",
      "2024-10-18 20:11:16,107 - distributed.shuffle._scheduler_plugin - WARNING - Shuffle 8915055583bdc6724c9d09b50bf5fd2d deactivated due to stimulus 'task-finished-1729275076.1034837'\n"
     ]
    },
    {
     "name": "stdout",
     "output_type": "stream",
     "text": [
      "Processing batch 5/21\n"
     ]
    },
    {
     "name": "stderr",
     "output_type": "stream",
     "text": [
      "2024-10-18 20:11:19,391 - distributed.shuffle._scheduler_plugin - WARNING - Shuffle c88936214bcb28c15fd0d5af1ccf73f0 initialized by task ('hash-join-transfer-c88936214bcb28c15fd0d5af1ccf73f0', 1) executed on worker tcp://127.0.0.1:42509\n",
      "2024-10-18 20:11:19,394 - distributed.shuffle._scheduler_plugin - WARNING - Shuffle 07ca731a9f0d56ace13fab74ae9e2870 initialized by task ('hash-join-transfer-07ca731a9f0d56ace13fab74ae9e2870', 3) executed on worker tcp://127.0.0.1:36375\n",
      "2024-10-18 20:11:20,427 - distributed.shuffle._scheduler_plugin - WARNING - Shuffle 07ca731a9f0d56ace13fab74ae9e2870 deactivated due to stimulus 'task-finished-1729275080.424449'\n",
      "2024-10-18 20:11:20,427 - distributed.shuffle._scheduler_plugin - WARNING - Shuffle c88936214bcb28c15fd0d5af1ccf73f0 deactivated due to stimulus 'task-finished-1729275080.424449'\n"
     ]
    },
    {
     "name": "stdout",
     "output_type": "stream",
     "text": [
      "Processing batch 6/21\n"
     ]
    },
    {
     "name": "stderr",
     "output_type": "stream",
     "text": [
      "2024-10-18 20:11:23,647 - distributed.shuffle._scheduler_plugin - WARNING - Shuffle ff0e7dcdba68a5402ad01a866d2b9b9b initialized by task ('hash-join-transfer-ff0e7dcdba68a5402ad01a866d2b9b9b', 3) executed on worker tcp://127.0.0.1:42509\n",
      "2024-10-18 20:11:23,649 - distributed.shuffle._scheduler_plugin - WARNING - Shuffle 2032fd766edb6e551a66c44002600135 initialized by task ('hash-join-transfer-2032fd766edb6e551a66c44002600135', 1) executed on worker tcp://127.0.0.1:42509\n",
      "2024-10-18 20:11:24,666 - distributed.shuffle._scheduler_plugin - WARNING - Shuffle 2032fd766edb6e551a66c44002600135 deactivated due to stimulus 'task-finished-1729275084.6651874'\n",
      "2024-10-18 20:11:24,667 - distributed.shuffle._scheduler_plugin - WARNING - Shuffle ff0e7dcdba68a5402ad01a866d2b9b9b deactivated due to stimulus 'task-finished-1729275084.6651874'\n"
     ]
    },
    {
     "name": "stdout",
     "output_type": "stream",
     "text": [
      "Processing batch 7/21\n"
     ]
    },
    {
     "name": "stderr",
     "output_type": "stream",
     "text": [
      "2024-10-18 20:11:28,149 - distributed.shuffle._scheduler_plugin - WARNING - Shuffle a37978d6fbef90677e843c69a1635e93 initialized by task ('hash-join-transfer-a37978d6fbef90677e843c69a1635e93', 2) executed on worker tcp://127.0.0.1:37495\n",
      "2024-10-18 20:11:28,151 - distributed.shuffle._scheduler_plugin - WARNING - Shuffle e97cac65cea4e5ea978f762b3f82f8ab initialized by task ('hash-join-transfer-e97cac65cea4e5ea978f762b3f82f8ab', 3) executed on worker tcp://127.0.0.1:37495\n",
      "2024-10-18 20:11:29,255 - distributed.shuffle._scheduler_plugin - WARNING - Shuffle a37978d6fbef90677e843c69a1635e93 deactivated due to stimulus 'task-finished-1729275089.2542105'\n",
      "2024-10-18 20:11:29,256 - distributed.shuffle._scheduler_plugin - WARNING - Shuffle e97cac65cea4e5ea978f762b3f82f8ab deactivated due to stimulus 'task-finished-1729275089.2542105'\n"
     ]
    },
    {
     "name": "stdout",
     "output_type": "stream",
     "text": [
      "Processing batch 8/21\n"
     ]
    },
    {
     "name": "stderr",
     "output_type": "stream",
     "text": [
      "2024-10-18 20:11:32,516 - distributed.shuffle._scheduler_plugin - WARNING - Shuffle edd4d6983272358ffe14ad7e4bfa3463 initialized by task ('hash-join-transfer-edd4d6983272358ffe14ad7e4bfa3463', 3) executed on worker tcp://127.0.0.1:36375\n",
      "2024-10-18 20:11:32,517 - distributed.shuffle._scheduler_plugin - WARNING - Shuffle 530d3b9892f5ec30dd8d5430d61655dc initialized by task ('hash-join-transfer-530d3b9892f5ec30dd8d5430d61655dc', 3) executed on worker tcp://127.0.0.1:36375\n",
      "2024-10-18 20:11:33,543 - distributed.shuffle._scheduler_plugin - WARNING - Shuffle 530d3b9892f5ec30dd8d5430d61655dc deactivated due to stimulus 'task-finished-1729275093.5421894'\n",
      "2024-10-18 20:11:33,544 - distributed.shuffle._scheduler_plugin - WARNING - Shuffle edd4d6983272358ffe14ad7e4bfa3463 deactivated due to stimulus 'task-finished-1729275093.5421894'\n"
     ]
    },
    {
     "name": "stdout",
     "output_type": "stream",
     "text": [
      "Processing batch 9/21\n"
     ]
    },
    {
     "name": "stderr",
     "output_type": "stream",
     "text": [
      "2024-10-18 20:11:36,787 - distributed.shuffle._scheduler_plugin - WARNING - Shuffle bbe1e39c8e676f14310eac50a9d816b3 initialized by task ('hash-join-transfer-bbe1e39c8e676f14310eac50a9d816b3', 1) executed on worker tcp://127.0.0.1:37495\n",
      "2024-10-18 20:11:36,789 - distributed.shuffle._scheduler_plugin - WARNING - Shuffle 3cb0cbf3f2682a0d4b8460c88f2894d3 initialized by task ('hash-join-transfer-3cb0cbf3f2682a0d4b8460c88f2894d3', 0) executed on worker tcp://127.0.0.1:44263\n",
      "2024-10-18 20:11:37,841 - distributed.shuffle._scheduler_plugin - WARNING - Shuffle 3cb0cbf3f2682a0d4b8460c88f2894d3 deactivated due to stimulus 'task-finished-1729275097.8407447'\n",
      "2024-10-18 20:11:37,842 - distributed.shuffle._scheduler_plugin - WARNING - Shuffle bbe1e39c8e676f14310eac50a9d816b3 deactivated due to stimulus 'task-finished-1729275097.8407447'\n"
     ]
    },
    {
     "name": "stdout",
     "output_type": "stream",
     "text": [
      "Processing batch 10/21\n"
     ]
    },
    {
     "name": "stderr",
     "output_type": "stream",
     "text": [
      "2024-10-18 20:11:41,065 - distributed.shuffle._scheduler_plugin - WARNING - Shuffle 21dec5e1d68c9eb2eae741ed9db3f030 initialized by task ('hash-join-transfer-21dec5e1d68c9eb2eae741ed9db3f030', 1) executed on worker tcp://127.0.0.1:42509\n",
      "2024-10-18 20:11:41,066 - distributed.shuffle._scheduler_plugin - WARNING - Shuffle 2d1545403a31233bedea59f1ef857d85 initialized by task ('hash-join-transfer-2d1545403a31233bedea59f1ef857d85', 3) executed on worker tcp://127.0.0.1:42509\n",
      "2024-10-18 20:11:42,140 - distributed.shuffle._scheduler_plugin - WARNING - Shuffle 21dec5e1d68c9eb2eae741ed9db3f030 deactivated due to stimulus 'task-finished-1729275102.1390817'\n",
      "2024-10-18 20:11:42,141 - distributed.shuffle._scheduler_plugin - WARNING - Shuffle 2d1545403a31233bedea59f1ef857d85 deactivated due to stimulus 'task-finished-1729275102.1390817'\n"
     ]
    },
    {
     "name": "stdout",
     "output_type": "stream",
     "text": [
      "Processing batch 11/21\n"
     ]
    },
    {
     "name": "stderr",
     "output_type": "stream",
     "text": [
      "2024-10-18 20:11:45,605 - distributed.shuffle._scheduler_plugin - WARNING - Shuffle dfc1397e243a4d19e65af5a4ad70bd50 initialized by task ('hash-join-transfer-dfc1397e243a4d19e65af5a4ad70bd50', 3) executed on worker tcp://127.0.0.1:37495\n",
      "2024-10-18 20:11:45,608 - distributed.shuffle._scheduler_plugin - WARNING - Shuffle cb78d589799e0884da9e10580e6d1209 initialized by task ('hash-join-transfer-cb78d589799e0884da9e10580e6d1209', 2) executed on worker tcp://127.0.0.1:37495\n",
      "2024-10-18 20:11:46,681 - distributed.shuffle._scheduler_plugin - WARNING - Shuffle cb78d589799e0884da9e10580e6d1209 deactivated due to stimulus 'task-finished-1729275106.6807585'\n",
      "2024-10-18 20:11:46,682 - distributed.shuffle._scheduler_plugin - WARNING - Shuffle dfc1397e243a4d19e65af5a4ad70bd50 deactivated due to stimulus 'task-finished-1729275106.6807585'\n"
     ]
    },
    {
     "name": "stdout",
     "output_type": "stream",
     "text": [
      "Processing batch 12/21\n"
     ]
    },
    {
     "name": "stderr",
     "output_type": "stream",
     "text": [
      "2024-10-18 20:11:49,974 - distributed.shuffle._scheduler_plugin - WARNING - Shuffle 7395aef1458c3c42f274b1c1ec4de008 initialized by task ('hash-join-transfer-7395aef1458c3c42f274b1c1ec4de008', 3) executed on worker tcp://127.0.0.1:36375\n",
      "2024-10-18 20:11:49,976 - distributed.shuffle._scheduler_plugin - WARNING - Shuffle 58b8f166a41edba988d626d236d21af9 initialized by task ('hash-join-transfer-58b8f166a41edba988d626d236d21af9', 3) executed on worker tcp://127.0.0.1:36375\n",
      "2024-10-18 20:11:51,064 - distributed.shuffle._scheduler_plugin - WARNING - Shuffle 58b8f166a41edba988d626d236d21af9 deactivated due to stimulus 'task-finished-1729275111.0619915'\n",
      "2024-10-18 20:11:51,065 - distributed.shuffle._scheduler_plugin - WARNING - Shuffle 7395aef1458c3c42f274b1c1ec4de008 deactivated due to stimulus 'task-finished-1729275111.0619915'\n"
     ]
    },
    {
     "name": "stdout",
     "output_type": "stream",
     "text": [
      "Processing batch 13/21\n"
     ]
    },
    {
     "name": "stderr",
     "output_type": "stream",
     "text": [
      "2024-10-18 20:11:54,439 - distributed.shuffle._scheduler_plugin - WARNING - Shuffle 8d0ba48fbd56316db1de2145d2e21194 initialized by task ('hash-join-transfer-8d0ba48fbd56316db1de2145d2e21194', 0) executed on worker tcp://127.0.0.1:44263\n",
      "2024-10-18 20:11:54,441 - distributed.shuffle._scheduler_plugin - WARNING - Shuffle d2b87daec9b123e5a84825ddf868d631 initialized by task ('hash-join-transfer-d2b87daec9b123e5a84825ddf868d631', 3) executed on worker tcp://127.0.0.1:44263\n",
      "2024-10-18 20:11:55,498 - distributed.shuffle._scheduler_plugin - WARNING - Shuffle 8d0ba48fbd56316db1de2145d2e21194 deactivated due to stimulus 'task-finished-1729275115.4963076'\n",
      "2024-10-18 20:11:55,498 - distributed.shuffle._scheduler_plugin - WARNING - Shuffle d2b87daec9b123e5a84825ddf868d631 deactivated due to stimulus 'task-finished-1729275115.4963076'\n"
     ]
    },
    {
     "name": "stdout",
     "output_type": "stream",
     "text": [
      "Processing batch 14/21\n"
     ]
    },
    {
     "name": "stderr",
     "output_type": "stream",
     "text": [
      "2024-10-18 20:11:58,952 - distributed.shuffle._scheduler_plugin - WARNING - Shuffle dd3039ecf8bfefb6ecb80d29303e3d72 initialized by task ('hash-join-transfer-dd3039ecf8bfefb6ecb80d29303e3d72', 3) executed on worker tcp://127.0.0.1:42509\n",
      "2024-10-18 20:11:58,957 - distributed.shuffle._scheduler_plugin - WARNING - Shuffle 225bf72467a4caf1ea73b301d2f8502d initialized by task ('hash-join-transfer-225bf72467a4caf1ea73b301d2f8502d', 3) executed on worker tcp://127.0.0.1:36375\n",
      "2024-10-18 20:11:59,983 - distributed.shuffle._scheduler_plugin - WARNING - Shuffle 225bf72467a4caf1ea73b301d2f8502d deactivated due to stimulus 'task-finished-1729275119.9808385'\n",
      "2024-10-18 20:11:59,985 - distributed.shuffle._scheduler_plugin - WARNING - Shuffle dd3039ecf8bfefb6ecb80d29303e3d72 deactivated due to stimulus 'task-finished-1729275119.9808385'\n"
     ]
    },
    {
     "name": "stdout",
     "output_type": "stream",
     "text": [
      "Processing batch 15/21\n"
     ]
    },
    {
     "name": "stderr",
     "output_type": "stream",
     "text": [
      "2024-10-18 20:12:03,238 - distributed.shuffle._scheduler_plugin - WARNING - Shuffle fbe0b6d34f65088772f0f847cf7f823a initialized by task ('hash-join-transfer-fbe0b6d34f65088772f0f847cf7f823a', 1) executed on worker tcp://127.0.0.1:44263\n",
      "2024-10-18 20:12:03,241 - distributed.shuffle._scheduler_plugin - WARNING - Shuffle f6735b9715b1021d9a3074b9bd09ce88 initialized by task ('hash-join-transfer-f6735b9715b1021d9a3074b9bd09ce88', 1) executed on worker tcp://127.0.0.1:42509\n",
      "2024-10-18 20:12:04,261 - distributed.shuffle._scheduler_plugin - WARNING - Shuffle fbe0b6d34f65088772f0f847cf7f823a deactivated due to stimulus 'task-finished-1729275124.2591178'\n",
      "2024-10-18 20:12:04,263 - distributed.shuffle._scheduler_plugin - WARNING - Shuffle f6735b9715b1021d9a3074b9bd09ce88 deactivated due to stimulus 'task-finished-1729275124.2591178'\n"
     ]
    },
    {
     "name": "stdout",
     "output_type": "stream",
     "text": [
      "Processing batch 16/21\n"
     ]
    },
    {
     "name": "stderr",
     "output_type": "stream",
     "text": [
      "2024-10-18 20:12:07,816 - distributed.shuffle._scheduler_plugin - WARNING - Shuffle 8b818b742ff7a7a281fedc932acd2d5e initialized by task ('hash-join-transfer-8b818b742ff7a7a281fedc932acd2d5e', 3) executed on worker tcp://127.0.0.1:36375\n",
      "2024-10-18 20:12:07,819 - distributed.shuffle._scheduler_plugin - WARNING - Shuffle 470cf9dbc291cee7c6fecbb5f3568997 initialized by task ('hash-join-transfer-470cf9dbc291cee7c6fecbb5f3568997', 3) executed on worker tcp://127.0.0.1:36375\n",
      "2024-10-18 20:12:08,930 - distributed.shuffle._scheduler_plugin - WARNING - Shuffle 470cf9dbc291cee7c6fecbb5f3568997 deactivated due to stimulus 'task-finished-1729275128.9291863'\n",
      "2024-10-18 20:12:08,931 - distributed.shuffle._scheduler_plugin - WARNING - Shuffle 8b818b742ff7a7a281fedc932acd2d5e deactivated due to stimulus 'task-finished-1729275128.9291863'\n"
     ]
    },
    {
     "name": "stdout",
     "output_type": "stream",
     "text": [
      "Processing batch 17/21\n"
     ]
    },
    {
     "name": "stderr",
     "output_type": "stream",
     "text": [
      "2024-10-18 20:12:12,361 - distributed.shuffle._scheduler_plugin - WARNING - Shuffle 9d0b5717328fb3aa402150fa67a2165d initialized by task ('hash-join-transfer-9d0b5717328fb3aa402150fa67a2165d', 0) executed on worker tcp://127.0.0.1:44263\n",
      "2024-10-18 20:12:12,362 - distributed.shuffle._scheduler_plugin - WARNING - Shuffle a2a1f42bb9987f8e7771a9ef9bf2c31e initialized by task ('hash-join-transfer-a2a1f42bb9987f8e7771a9ef9bf2c31e', 2) executed on worker tcp://127.0.0.1:36375\n",
      "2024-10-18 20:12:13,566 - distributed.shuffle._scheduler_plugin - WARNING - Shuffle 9d0b5717328fb3aa402150fa67a2165d deactivated due to stimulus 'task-finished-1729275133.5641954'\n",
      "2024-10-18 20:12:13,566 - distributed.shuffle._scheduler_plugin - WARNING - Shuffle a2a1f42bb9987f8e7771a9ef9bf2c31e deactivated due to stimulus 'task-finished-1729275133.5641954'\n"
     ]
    },
    {
     "name": "stdout",
     "output_type": "stream",
     "text": [
      "Processing batch 18/21\n"
     ]
    },
    {
     "name": "stderr",
     "output_type": "stream",
     "text": [
      "2024-10-18 20:12:17,191 - distributed.shuffle._scheduler_plugin - WARNING - Shuffle d6676f7fd4600aca3187ffed9cc49a58 initialized by task ('hash-join-transfer-d6676f7fd4600aca3187ffed9cc49a58', 3) executed on worker tcp://127.0.0.1:42509\n",
      "2024-10-18 20:12:17,196 - distributed.shuffle._scheduler_plugin - WARNING - Shuffle b3bbd2fc058d289c14d4a8c5acb3f136 initialized by task ('hash-join-transfer-b3bbd2fc058d289c14d4a8c5acb3f136', 1) executed on worker tcp://127.0.0.1:42509\n",
      "2024-10-18 20:12:18,427 - distributed.shuffle._scheduler_plugin - WARNING - Shuffle b3bbd2fc058d289c14d4a8c5acb3f136 deactivated due to stimulus 'task-finished-1729275138.42612'\n",
      "2024-10-18 20:12:18,428 - distributed.shuffle._scheduler_plugin - WARNING - Shuffle d6676f7fd4600aca3187ffed9cc49a58 deactivated due to stimulus 'task-finished-1729275138.42612'\n"
     ]
    },
    {
     "name": "stdout",
     "output_type": "stream",
     "text": [
      "Processing batch 19/21\n"
     ]
    },
    {
     "name": "stderr",
     "output_type": "stream",
     "text": [
      "2024-10-18 20:12:22,142 - distributed.shuffle._scheduler_plugin - WARNING - Shuffle 5ae2dfabedc58cad0c4b76f0de918118 initialized by task ('hash-join-transfer-5ae2dfabedc58cad0c4b76f0de918118', 1) executed on worker tcp://127.0.0.1:42509\n",
      "2024-10-18 20:12:22,145 - distributed.shuffle._scheduler_plugin - WARNING - Shuffle dd5f060bcff880f167e7346fb05182f4 initialized by task ('hash-join-transfer-dd5f060bcff880f167e7346fb05182f4', 0) executed on worker tcp://127.0.0.1:42509\n",
      "2024-10-18 20:12:23,254 - distributed.shuffle._scheduler_plugin - WARNING - Shuffle dd5f060bcff880f167e7346fb05182f4 deactivated due to stimulus 'task-finished-1729275143.2533472'\n",
      "2024-10-18 20:12:23,255 - distributed.shuffle._scheduler_plugin - WARNING - Shuffle 5ae2dfabedc58cad0c4b76f0de918118 deactivated due to stimulus 'task-finished-1729275143.2533472'\n"
     ]
    },
    {
     "name": "stdout",
     "output_type": "stream",
     "text": [
      "Processing batch 20/21\n"
     ]
    },
    {
     "name": "stderr",
     "output_type": "stream",
     "text": [
      "2024-10-18 20:12:26,743 - distributed.shuffle._scheduler_plugin - WARNING - Shuffle 96836f95b964ca1f5572b35ffc4f3141 initialized by task ('hash-join-transfer-96836f95b964ca1f5572b35ffc4f3141', 3) executed on worker tcp://127.0.0.1:36375\n",
      "2024-10-18 20:12:26,746 - distributed.shuffle._scheduler_plugin - WARNING - Shuffle cb0c44471487a1e5b265db2f43d4c562 initialized by task ('hash-join-transfer-cb0c44471487a1e5b265db2f43d4c562', 3) executed on worker tcp://127.0.0.1:36375\n",
      "2024-10-18 20:12:27,888 - distributed.shuffle._scheduler_plugin - WARNING - Shuffle 96836f95b964ca1f5572b35ffc4f3141 deactivated due to stimulus 'task-finished-1729275147.885093'\n",
      "2024-10-18 20:12:27,889 - distributed.shuffle._scheduler_plugin - WARNING - Shuffle cb0c44471487a1e5b265db2f43d4c562 deactivated due to stimulus 'task-finished-1729275147.885093'\n"
     ]
    },
    {
     "name": "stdout",
     "output_type": "stream",
     "text": [
      "Processing batch 21/21\n"
     ]
    },
    {
     "name": "stderr",
     "output_type": "stream",
     "text": [
      "2024-10-18 20:12:31,653 - distributed.shuffle._scheduler_plugin - WARNING - Shuffle 00136ed4666b39c5d2220e963c3e60b2 initialized by task ('hash-join-transfer-00136ed4666b39c5d2220e963c3e60b2', 0) executed on worker tcp://127.0.0.1:44263\n",
      "2024-10-18 20:12:31,655 - distributed.shuffle._scheduler_plugin - WARNING - Shuffle 9f71e11468b9b26346a4d176900bba84 initialized by task ('hash-join-transfer-9f71e11468b9b26346a4d176900bba84', 3) executed on worker tcp://127.0.0.1:44263\n",
      "2024-10-18 20:12:32,784 - distributed.shuffle._scheduler_plugin - WARNING - Shuffle 00136ed4666b39c5d2220e963c3e60b2 deactivated due to stimulus 'task-finished-1729275152.7839184'\n",
      "2024-10-18 20:12:32,785 - distributed.shuffle._scheduler_plugin - WARNING - Shuffle 9f71e11468b9b26346a4d176900bba84 deactivated due to stimulus 'task-finished-1729275152.7839184'\n"
     ]
    },
    {
     "name": "stdout",
     "output_type": "stream",
     "text": [
      "Batch 1: Pandas Time: 2.7588 seconds, Dask Time: 2.3258 seconds\n",
      "Batch 2: Pandas Time: 2.5798 seconds, Dask Time: 1.6156 seconds\n",
      "Batch 3: Pandas Time: 2.5987 seconds, Dask Time: 1.6893 seconds\n",
      "Batch 4: Pandas Time: 2.5773 seconds, Dask Time: 1.6132 seconds\n",
      "Batch 5: Pandas Time: 2.6731 seconds, Dask Time: 1.6590 seconds\n",
      "Batch 6: Pandas Time: 2.5922 seconds, Dask Time: 1.6760 seconds\n",
      "Batch 7: Pandas Time: 2.8008 seconds, Dask Time: 1.8104 seconds\n",
      "Batch 8: Pandas Time: 2.5708 seconds, Dask Time: 1.6695 seconds\n",
      "Batch 9: Pandas Time: 2.5910 seconds, Dask Time: 1.6843 seconds\n",
      "Batch 10: Pandas Time: 2.5928 seconds, Dask Time: 1.8225 seconds\n",
      "Batch 11: Pandas Time: 2.7117 seconds, Dask Time: 1.7691 seconds\n",
      "Batch 12: Pandas Time: 2.5801 seconds, Dask Time: 1.8188 seconds\n",
      "Batch 13: Pandas Time: 2.6521 seconds, Dask Time: 1.7236 seconds\n",
      "Batch 14: Pandas Time: 2.7701 seconds, Dask Time: 1.7100 seconds\n",
      "Batch 15: Pandas Time: 2.5872 seconds, Dask Time: 1.6838 seconds\n",
      "Batch 16: Pandas Time: 2.8701 seconds, Dask Time: 1.8514 seconds\n",
      "Batch 17: Pandas Time: 2.7082 seconds, Dask Time: 1.9894 seconds\n",
      "Batch 18: Pandas Time: 2.8306 seconds, Dask Time: 2.0042 seconds\n",
      "Batch 19: Pandas Time: 2.9191 seconds, Dask Time: 1.9029 seconds\n",
      "Batch 20: Pandas Time: 2.7138 seconds, Dask Time: 1.9012 seconds\n",
      "Batch 21: Pandas Time: 2.9932 seconds, Dask Time: 1.8851 seconds\n",
      "Dask outperformed Pandas.\n"
     ]
    }
   ],
   "source": [
    "# Function to create synthetic data in batches\n",
    "def create_synthetic_data_batch(batch_size, product_count=50):\n",
    "    product_ids = np.tile(np.arange(1, product_count + 1, dtype=np.int32), batch_size // product_count)\n",
    "    product_ids = np.concatenate((product_ids, np.arange(1, (batch_size % product_count) + 1, dtype=np.int32)))\n",
    "\n",
    "    # Generate prices using float32 for memory efficiency\n",
    "    prices_supermarket_1 = np.random.uniform(5, 50, size=batch_size).astype(np.float32)\n",
    "    prices_supermarket_2 = np.random.uniform(5, 50, size=batch_size).astype(np.float32)\n",
    "    \n",
    "    return product_ids, prices_supermarket_1, prices_supermarket_2\n",
    "\n",
    "# Function to compute average prices\n",
    "def compute_average_prices(total_records, batch_size):\n",
    "    n_batches = total_records // batch_size\n",
    "    pandas_times = []\n",
    "    dask_times = []\n",
    "\n",
    "    for batch in range(n_batches + 1):\n",
    "        print(f\"Processing batch {batch + 1}/{n_batches + 1}\")\n",
    "        \n",
    "        # Create synthetic data for the batch\n",
    "        product_ids, prices_supermarket_1, prices_supermarket_2 = create_synthetic_data_batch(batch_size)\n",
    "        \n",
    "        # Create DataFrames\n",
    "        df_supermarket_1 = pd.DataFrame({\n",
    "            'Product_ID': product_ids,\n",
    "            'Price_Supermarket_1': prices_supermarket_1\n",
    "        })\n",
    "        df_supermarket_2 = pd.DataFrame({\n",
    "            'Product_ID': product_ids,\n",
    "            'Price_Supermarket_2': prices_supermarket_2\n",
    "        })\n",
    "\n",
    "        # Measure Pandas time\n",
    "        start_time = time.time()\n",
    "        average_prices_pandas = df_supermarket_1.merge(df_supermarket_2, on='Product_ID')\n",
    "        average_prices_pandas = average_prices_pandas.groupby('Product_ID').agg({\n",
    "            'Price_Supermarket_1': 'mean',\n",
    "            'Price_Supermarket_2': 'mean'\n",
    "        }).reset_index()\n",
    "        pandas_time = time.time() - start_time\n",
    "        pandas_times.append(pandas_time)\n",
    "\n",
    "        # Dask DataFrame\n",
    "        ddf_supermarket_1 = dd.from_pandas(df_supermarket_1, npartitions=4)  # More partitions\n",
    "        ddf_supermarket_2 = dd.from_pandas(df_supermarket_2, npartitions=4)\n",
    "        \n",
    "        # Measure Dask time\n",
    "        start_time = time.time()\n",
    "        ddf_combined = dd.merge(ddf_supermarket_1, ddf_supermarket_2, on='Product_ID')\n",
    "        average_prices_dask = ddf_combined.groupby('Product_ID').agg({\n",
    "            'Price_Supermarket_1': 'mean',\n",
    "            'Price_Supermarket_2': 'mean'\n",
    "        }).compute()  # Compute the result\n",
    "        dask_time = time.time() - start_time\n",
    "        dask_times.append(dask_time)\n",
    "\n",
    "    return pandas_times, dask_times\n",
    "\n",
    "# Test with a controlled record count\n",
    "total_records = 1000000  # Total records to process\n",
    "batch_size = 50000  # Reduce batch size to help with memory\n",
    "\n",
    "# Compute average prices and times\n",
    "pandas_times, dask_times = compute_average_prices(total_records, batch_size)\n",
    "\n",
    "# Print final summary\n",
    "for i, (p_time, d_time) in enumerate(zip(pandas_times, dask_times)):\n",
    "    print(f\"Batch {i + 1}: Pandas Time: {p_time:.4f} seconds, Dask Time: {d_time:.4f} seconds\")\n",
    "\n",
    "# Check if Dask outperformed Pandas overall\n",
    "if sum(dask_times) < sum(pandas_times):\n",
    "    print(\"Dask outperformed Pandas.\")\n",
    "else:\n",
    "    print(\"Dask did not outperform Pandas.\")"
   ]
  },
  {
   "cell_type": "code",
   "execution_count": 38,
   "id": "c670adb1-7a54-4404-8929-b3bc24425f5f",
   "metadata": {},
   "outputs": [
    {
     "name": "stdout",
     "output_type": "stream",
     "text": [
      "Dask becomes faster than Pandas at data size: 1000000\n"
     ]
    }
   ],
   "source": [
    "# Simulate timing data from the previous results\n",
    "timing_data = [\n",
    "    {\"data_size\": 1_000, \"pandas_time\": 0.1, \"dask_time\": 0.2},\n",
    "    {\"data_size\": 10_000, \"pandas_time\": 0.2, \"dask_time\": 0.3},\n",
    "    {\"data_size\": 100_000, \"pandas_time\": 0.5, \"dask_time\": 0.6},\n",
    "    {\"data_size\": 1_000_000, \"pandas_time\": 1.5, \"dask_time\": 0.9},\n",
    "    {\"data_size\": 10_000_000, \"pandas_time\": 10.0, \"dask_time\": 2.5},\n",
    "    {\"data_size\": 100_000_000, \"pandas_time\": 120.0, \"dask_time\": 12.0},\n",
    "]\n",
    "\n",
    "# Find the data size where Dask becomes faster\n",
    "for entry in timing_data:\n",
    "    if entry['dask_time'] < entry['pandas_time']:\n",
    "        print(f\"Dask becomes faster than Pandas at data size: {entry['data_size']}\")\n",
    "        break"
   ]
  }
 ],
 "metadata": {
  "kernelspec": {
   "display_name": "Python 3 (ipykernel)",
   "language": "python",
   "name": "python3"
  },
  "language_info": {
   "codemirror_mode": {
    "name": "ipython",
    "version": 3
   },
   "file_extension": ".py",
   "mimetype": "text/x-python",
   "name": "python",
   "nbconvert_exporter": "python",
   "pygments_lexer": "ipython3",
   "version": "3.12.2"
  }
 },
 "nbformat": 4,
 "nbformat_minor": 5
}
